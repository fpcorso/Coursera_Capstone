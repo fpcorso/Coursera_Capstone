{
    "cells": [
        {
            "cell_type": "markdown",
            "metadata": {
                "collapsed": true
            },
            "source": "# Segmenting And Clustering Neighborhoods in Toronto\n\nNotebook for Toronto neighborhoods assignment in the capstone course of the IBM data science certificate."
        },
        {
            "cell_type": "markdown",
            "metadata": {},
            "source": "## Part 1 - Preparing the neighborhood dataframe"
        },
        {
            "cell_type": "code",
            "execution_count": 1,
            "metadata": {},
            "outputs": [],
            "source": "# Our needed imports.\nimport folium\nimport json\nimport numpy as np\nimport pandas as pd\nimport requests\nfrom bs4 import BeautifulSoup\nfrom geopy.geocoders import Nominatim\nfrom sklearn.cluster import KMeans"
        },
        {
            "cell_type": "code",
            "execution_count": 2,
            "metadata": {},
            "outputs": [],
            "source": "# Prepare our neighborhood dataframe.\nneighborhood_df = pd.DataFrame(columns=['PostalCode', 'Borough', 'Neighborhood'])"
        },
        {
            "cell_type": "code",
            "execution_count": 3,
            "metadata": {},
            "outputs": [],
            "source": "# Load our Wikipedia page containing postal codes in Toronto.\ncrawl_url = 'https://en.wikipedia.org/wiki/List_of_postal_codes_of_Canada:_M'\nr = requests.get(crawl_url)"
        },
        {
            "cell_type": "code",
            "execution_count": 4,
            "metadata": {},
            "outputs": [],
            "source": "# Loop over table and add rows to our dataframe.\nsoup = BeautifulSoup(r.text, 'html.parser')\npostal_codes_table = soup.find('table', {'class': 'wikitable'})\npostal_codes_rows = postal_codes_table.find_all('tr')\nfor count, postal_code in enumerate(postal_codes_rows):\n    # First row is header, skip.\n    if count == 0:\n        continue\n\n    # Prepare our data.\n    cells = postal_code.find_all('td')\n    postal = cells[0].text.strip()\n    borough = cells[1].text.strip()\n    neighborhood = cells[2].text.strip()\n\n    # Skip any postal code without an assigned borough.\n    if borough == 'Not assigned':\n        continue\n        \n    neighborhood_df = neighborhood_df.append(pd.Series([postal, borough, neighborhood], index=neighborhood_df.columns), ignore_index=True)"
        },
        {
            "cell_type": "code",
            "execution_count": 5,
            "metadata": {},
            "outputs": [
                {
                    "name": "stdout",
                    "output_type": "stream",
                    "text": "  PostalCode           Borough                                 Neighborhood\n0        M3A        North York                                    Parkwoods\n1        M4A        North York                             Victoria Village\n2        M5A  Downtown Toronto                    Regent Park, Harbourfront\n3        M6A        North York             Lawrence Manor, Lawrence Heights\n4        M7A  Downtown Toronto  Queen's Park, Ontario Provincial Government\n\nShape: (103, 3)\n"
                }
            ],
            "source": "# Preview our neighborhood dataframe.\nprint(neighborhood_df.head())\nprint('')\nprint('Shape:', neighborhood_df.shape)"
        }
    ],
    "metadata": {
        "kernelspec": {
            "display_name": "Python 3.6",
            "language": "python",
            "name": "python3"
        },
        "language_info": {
            "codemirror_mode": {
                "name": "ipython",
                "version": 3
            },
            "file_extension": ".py",
            "mimetype": "text/x-python",
            "name": "python",
            "nbconvert_exporter": "python",
            "pygments_lexer": "ipython3",
            "version": "3.6.9"
        }
    },
    "nbformat": 4,
    "nbformat_minor": 1
}